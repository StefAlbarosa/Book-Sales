{
 "cells": [
  {
   "cell_type": "markdown",
   "id": "9d2f4bee",
   "metadata": {},
   "source": [
    "### Libraries and Data preparation"
   ]
  },
  {
   "cell_type": "code",
   "execution_count": 79,
   "id": "959e55ce",
   "metadata": {},
   "outputs": [],
   "source": [
    "import pandas as pd\n",
    "import numpy as np\n",
    "import seaborn as sns\n",
    "import matplotlib.pyplot as plt"
   ]
  },
  {
   "cell_type": "code",
   "execution_count": 80,
   "id": "7783f9b6",
   "metadata": {},
   "outputs": [],
   "source": [
    "cus=pd.read_csv('Data/customers.csv')\n",
    "tra=pd.read_csv('Data/transactions.csv')\n",
    "pro=pd.read_csv('Data/products.csv')\n",
    "\n",
    "csvs=(cus,tra,pro)"
   ]
  },
  {
   "cell_type": "code",
   "execution_count": 81,
   "id": "e9679330",
   "metadata": {
    "scrolled": true
   },
   "outputs": [
    {
     "name": "stdout",
     "output_type": "stream",
     "text": [
      "<class 'pandas.core.frame.DataFrame'>\n",
      "RangeIndex: 8623 entries, 0 to 8622\n",
      "Data columns (total 3 columns):\n",
      " #   Column     Non-Null Count  Dtype \n",
      "---  ------     --------------  ----- \n",
      " 0   client_id  8623 non-null   object\n",
      " 1   sex        8623 non-null   object\n",
      " 2   birth      8623 non-null   int64 \n",
      "dtypes: int64(1), object(2)\n",
      "memory usage: 202.2+ KB\n"
     ]
    },
    {
     "data": {
      "text/html": [
       "<div>\n",
       "<style scoped>\n",
       "    .dataframe tbody tr th:only-of-type {\n",
       "        vertical-align: middle;\n",
       "    }\n",
       "\n",
       "    .dataframe tbody tr th {\n",
       "        vertical-align: top;\n",
       "    }\n",
       "\n",
       "    .dataframe thead th {\n",
       "        text-align: right;\n",
       "    }\n",
       "</style>\n",
       "<table border=\"1\" class=\"dataframe\">\n",
       "  <thead>\n",
       "    <tr style=\"text-align: right;\">\n",
       "      <th></th>\n",
       "      <th>client_id</th>\n",
       "      <th>sex</th>\n",
       "      <th>birth</th>\n",
       "    </tr>\n",
       "  </thead>\n",
       "  <tbody>\n",
       "    <tr>\n",
       "      <th>0</th>\n",
       "      <td>c_4410</td>\n",
       "      <td>f</td>\n",
       "      <td>1967</td>\n",
       "    </tr>\n",
       "    <tr>\n",
       "      <th>1</th>\n",
       "      <td>c_7839</td>\n",
       "      <td>f</td>\n",
       "      <td>1975</td>\n",
       "    </tr>\n",
       "  </tbody>\n",
       "</table>\n",
       "</div>"
      ],
      "text/plain": [
       "  client_id sex  birth\n",
       "0    c_4410   f   1967\n",
       "1    c_7839   f   1975"
      ]
     },
     "metadata": {},
     "output_type": "display_data"
    },
    {
     "data": {
      "text/plain": [
       "client_id    0\n",
       "sex          0\n",
       "birth        0\n",
       "dtype: int64"
      ]
     },
     "metadata": {},
     "output_type": "display_data"
    },
    {
     "name": "stdout",
     "output_type": "stream",
     "text": [
      "<class 'pandas.core.frame.DataFrame'>\n",
      "RangeIndex: 337016 entries, 0 to 337015\n",
      "Data columns (total 4 columns):\n",
      " #   Column      Non-Null Count   Dtype \n",
      "---  ------      --------------   ----- \n",
      " 0   id_prod     337016 non-null  object\n",
      " 1   date        337016 non-null  object\n",
      " 2   session_id  337016 non-null  object\n",
      " 3   client_id   337016 non-null  object\n",
      "dtypes: object(4)\n",
      "memory usage: 10.3+ MB\n"
     ]
    },
    {
     "data": {
      "text/html": [
       "<div>\n",
       "<style scoped>\n",
       "    .dataframe tbody tr th:only-of-type {\n",
       "        vertical-align: middle;\n",
       "    }\n",
       "\n",
       "    .dataframe tbody tr th {\n",
       "        vertical-align: top;\n",
       "    }\n",
       "\n",
       "    .dataframe thead th {\n",
       "        text-align: right;\n",
       "    }\n",
       "</style>\n",
       "<table border=\"1\" class=\"dataframe\">\n",
       "  <thead>\n",
       "    <tr style=\"text-align: right;\">\n",
       "      <th></th>\n",
       "      <th>id_prod</th>\n",
       "      <th>date</th>\n",
       "      <th>session_id</th>\n",
       "      <th>client_id</th>\n",
       "    </tr>\n",
       "  </thead>\n",
       "  <tbody>\n",
       "    <tr>\n",
       "      <th>0</th>\n",
       "      <td>0_1483</td>\n",
       "      <td>2021-04-10 18:37:28.723910</td>\n",
       "      <td>s_18746</td>\n",
       "      <td>c_4450</td>\n",
       "    </tr>\n",
       "    <tr>\n",
       "      <th>1</th>\n",
       "      <td>2_226</td>\n",
       "      <td>2022-02-03 01:55:53.276402</td>\n",
       "      <td>s_159142</td>\n",
       "      <td>c_277</td>\n",
       "    </tr>\n",
       "  </tbody>\n",
       "</table>\n",
       "</div>"
      ],
      "text/plain": [
       "  id_prod                        date session_id client_id\n",
       "0  0_1483  2021-04-10 18:37:28.723910    s_18746    c_4450\n",
       "1   2_226  2022-02-03 01:55:53.276402   s_159142     c_277"
      ]
     },
     "metadata": {},
     "output_type": "display_data"
    },
    {
     "data": {
      "text/plain": [
       "id_prod       0\n",
       "date          0\n",
       "session_id    0\n",
       "client_id     0\n",
       "dtype: int64"
      ]
     },
     "metadata": {},
     "output_type": "display_data"
    },
    {
     "name": "stdout",
     "output_type": "stream",
     "text": [
      "<class 'pandas.core.frame.DataFrame'>\n",
      "RangeIndex: 3287 entries, 0 to 3286\n",
      "Data columns (total 3 columns):\n",
      " #   Column   Non-Null Count  Dtype  \n",
      "---  ------   --------------  -----  \n",
      " 0   id_prod  3287 non-null   object \n",
      " 1   price    3287 non-null   float64\n",
      " 2   categ    3287 non-null   int64  \n",
      "dtypes: float64(1), int64(1), object(1)\n",
      "memory usage: 77.2+ KB\n"
     ]
    },
    {
     "data": {
      "text/html": [
       "<div>\n",
       "<style scoped>\n",
       "    .dataframe tbody tr th:only-of-type {\n",
       "        vertical-align: middle;\n",
       "    }\n",
       "\n",
       "    .dataframe tbody tr th {\n",
       "        vertical-align: top;\n",
       "    }\n",
       "\n",
       "    .dataframe thead th {\n",
       "        text-align: right;\n",
       "    }\n",
       "</style>\n",
       "<table border=\"1\" class=\"dataframe\">\n",
       "  <thead>\n",
       "    <tr style=\"text-align: right;\">\n",
       "      <th></th>\n",
       "      <th>id_prod</th>\n",
       "      <th>price</th>\n",
       "      <th>categ</th>\n",
       "    </tr>\n",
       "  </thead>\n",
       "  <tbody>\n",
       "    <tr>\n",
       "      <th>0</th>\n",
       "      <td>0_1421</td>\n",
       "      <td>19.99</td>\n",
       "      <td>0</td>\n",
       "    </tr>\n",
       "    <tr>\n",
       "      <th>1</th>\n",
       "      <td>0_1368</td>\n",
       "      <td>5.13</td>\n",
       "      <td>0</td>\n",
       "    </tr>\n",
       "  </tbody>\n",
       "</table>\n",
       "</div>"
      ],
      "text/plain": [
       "  id_prod  price  categ\n",
       "0  0_1421  19.99      0\n",
       "1  0_1368   5.13      0"
      ]
     },
     "metadata": {},
     "output_type": "display_data"
    },
    {
     "data": {
      "text/plain": [
       "id_prod    0\n",
       "price      0\n",
       "categ      0\n",
       "dtype: int64"
      ]
     },
     "metadata": {},
     "output_type": "display_data"
    }
   ],
   "source": [
    "for file in csvs:\n",
    "    file.info()\n",
    "    display(file.head(2))\n",
    "    display(file.isnull().sum())"
   ]
  },
  {
   "cell_type": "markdown",
   "id": "8b2a4baa",
   "metadata": {},
   "source": [
    "## Data Exploration "
   ]
  },
  {
   "cell_type": "markdown",
   "id": "b8a75dab",
   "metadata": {},
   "source": [
    "### Customers: "
   ]
  },
  {
   "cell_type": "code",
   "execution_count": 82,
   "id": "bebab8e8",
   "metadata": {},
   "outputs": [
    {
     "data": {
      "text/plain": [
       "sex\n",
       "f    4491\n",
       "m    4132\n",
       "Name: count, dtype: int64"
      ]
     },
     "execution_count": 82,
     "metadata": {},
     "output_type": "execute_result"
    }
   ],
   "source": [
    "cus.value_counts('sex')"
   ]
  },
  {
   "cell_type": "code",
   "execution_count": 83,
   "id": "99fadac0",
   "metadata": {
    "scrolled": true
   },
   "outputs": [
    {
     "data": {
      "text/plain": [
       "<Axes: xlabel='birth', ylabel='Count'>"
      ]
     },
     "execution_count": 83,
     "metadata": {},
     "output_type": "execute_result"
    },
    {
     "data": {
      "image/png": "[encoded data removed]",
      "text/plain": [
       "<Figure size 640x480 with 1 Axes>"
      ]
     },
     "metadata": {},
     "output_type": "display_data"
    }
   ],
   "source": [
    "sns.histplot(data=cus, x='birth')"
   ]
  },
  {
   "cell_type": "markdown",
   "id": "0fcb22fe",
   "metadata": {},
   "source": [
    "### Products:"
   ]
  },
  {
   "cell_type": "code",
   "execution_count": 84,
   "id": "639da361",
   "metadata": {},
   "outputs": [
    {
     "data": {
      "text/plain": [
       "categ\n",
       "0    2309\n",
       "1     739\n",
       "2     239\n",
       "Name: count, dtype: int64"
      ]
     },
     "execution_count": 84,
     "metadata": {},
     "output_type": "execute_result"
    }
   ],
   "source": [
    "pro.value_counts('categ')"
   ]
  },
  {
   "cell_type": "code",
   "execution_count": 85,
   "id": "00ea45ad",
   "metadata": {},
   "outputs": [
    {
     "data": {
      "text/plain": [
       "<Axes: xlabel='price', ylabel='Count'>"
      ]
     },
     "execution_count": 85,
     "metadata": {},
     "output_type": "execute_result"
    },
    {
     "data": {
      "image/png": "[encoded data removed]",
      "text/plain": [
       "<Figure size 640x480 with 1 Axes>"
      ]
     },
     "metadata": {},
     "output_type": "display_data"
    }
   ],
   "source": [
    "sns.histplot(data=pro, x='price')"
   ]
  },
  {
   "cell_type": "markdown",
   "id": "f49d1ac0",
   "metadata": {},
   "source": [
    "Finding test values:"
   ]
  },
  {
   "cell_type": "code",
   "execution_count": 86,
   "id": "bdfd4ad4",
   "metadata": {
    "scrolled": false
   },
   "outputs": [
    {
     "data": {
      "text/html": [
       "<div>\n",
       "<style scoped>\n",
       "    .dataframe tbody tr th:only-of-type {\n",
       "        vertical-align: middle;\n",
       "    }\n",
       "\n",
       "    .dataframe tbody tr th {\n",
       "        vertical-align: top;\n",
       "    }\n",
       "\n",
       "    .dataframe thead th {\n",
       "        text-align: right;\n",
       "    }\n",
       "</style>\n",
       "<table border=\"1\" class=\"dataframe\">\n",
       "  <thead>\n",
       "    <tr style=\"text-align: right;\">\n",
       "      <th></th>\n",
       "      <th>id_prod</th>\n",
       "      <th>price</th>\n",
       "      <th>categ</th>\n",
       "    </tr>\n",
       "  </thead>\n",
       "  <tbody>\n",
       "    <tr>\n",
       "      <th>731</th>\n",
       "      <td>T_0</td>\n",
       "      <td>-1.0</td>\n",
       "      <td>0</td>\n",
       "    </tr>\n",
       "  </tbody>\n",
       "</table>\n",
       "</div>"
      ],
      "text/plain": [
       "    id_prod  price  categ\n",
       "731     T_0   -1.0      0"
      ]
     },
     "execution_count": 86,
     "metadata": {},
     "output_type": "execute_result"
    }
   ],
   "source": [
    "#noticed there are some negative values: \n",
    "\n",
    "pro[pro['price']<=0]"
   ]
  },
  {
   "cell_type": "markdown",
   "id": "8fd86873",
   "metadata": {},
   "source": [
    "### Transactions"
   ]
  },
  {
   "cell_type": "code",
   "execution_count": 87,
   "id": "0820f89c",
   "metadata": {
    "scrolled": true
   },
   "outputs": [
    {
     "data": {
      "text/html": [
       "<div>\n",
       "<style scoped>\n",
       "    .dataframe tbody tr th:only-of-type {\n",
       "        vertical-align: middle;\n",
       "    }\n",
       "\n",
       "    .dataframe tbody tr th {\n",
       "        vertical-align: top;\n",
       "    }\n",
       "\n",
       "    .dataframe thead th {\n",
       "        text-align: right;\n",
       "    }\n",
       "</style>\n",
       "<table border=\"1\" class=\"dataframe\">\n",
       "  <thead>\n",
       "    <tr style=\"text-align: right;\">\n",
       "      <th></th>\n",
       "      <th>id_prod</th>\n",
       "      <th>date</th>\n",
       "      <th>session_id</th>\n",
       "      <th>client_id</th>\n",
       "    </tr>\n",
       "  </thead>\n",
       "  <tbody>\n",
       "    <tr>\n",
       "      <th>1431</th>\n",
       "      <td>T_0</td>\n",
       "      <td>test_2021-03-01 02:30:02.237420</td>\n",
       "      <td>s_0</td>\n",
       "      <td>ct_1</td>\n",
       "    </tr>\n",
       "    <tr>\n",
       "      <th>2365</th>\n",
       "      <td>T_0</td>\n",
       "      <td>test_2021-03-01 02:30:02.237446</td>\n",
       "      <td>s_0</td>\n",
       "      <td>ct_1</td>\n",
       "    </tr>\n",
       "    <tr>\n",
       "      <th>2895</th>\n",
       "      <td>T_0</td>\n",
       "      <td>test_2021-03-01 02:30:02.237414</td>\n",
       "      <td>s_0</td>\n",
       "      <td>ct_1</td>\n",
       "    </tr>\n",
       "    <tr>\n",
       "      <th>5955</th>\n",
       "      <td>T_0</td>\n",
       "      <td>test_2021-03-01 02:30:02.237441</td>\n",
       "      <td>s_0</td>\n",
       "      <td>ct_0</td>\n",
       "    </tr>\n",
       "    <tr>\n",
       "      <th>7283</th>\n",
       "      <td>T_0</td>\n",
       "      <td>test_2021-03-01 02:30:02.237434</td>\n",
       "      <td>s_0</td>\n",
       "      <td>ct_1</td>\n",
       "    </tr>\n",
       "    <tr>\n",
       "      <th>...</th>\n",
       "      <td>...</td>\n",
       "      <td>...</td>\n",
       "      <td>...</td>\n",
       "      <td>...</td>\n",
       "    </tr>\n",
       "    <tr>\n",
       "      <th>332594</th>\n",
       "      <td>T_0</td>\n",
       "      <td>test_2021-03-01 02:30:02.237445</td>\n",
       "      <td>s_0</td>\n",
       "      <td>ct_0</td>\n",
       "    </tr>\n",
       "    <tr>\n",
       "      <th>332705</th>\n",
       "      <td>T_0</td>\n",
       "      <td>test_2021-03-01 02:30:02.237423</td>\n",
       "      <td>s_0</td>\n",
       "      <td>ct_1</td>\n",
       "    </tr>\n",
       "    <tr>\n",
       "      <th>332730</th>\n",
       "      <td>T_0</td>\n",
       "      <td>test_2021-03-01 02:30:02.237421</td>\n",
       "      <td>s_0</td>\n",
       "      <td>ct_1</td>\n",
       "    </tr>\n",
       "    <tr>\n",
       "      <th>333442</th>\n",
       "      <td>T_0</td>\n",
       "      <td>test_2021-03-01 02:30:02.237431</td>\n",
       "      <td>s_0</td>\n",
       "      <td>ct_1</td>\n",
       "    </tr>\n",
       "    <tr>\n",
       "      <th>335279</th>\n",
       "      <td>T_0</td>\n",
       "      <td>test_2021-03-01 02:30:02.237430</td>\n",
       "      <td>s_0</td>\n",
       "      <td>ct_0</td>\n",
       "    </tr>\n",
       "  </tbody>\n",
       "</table>\n",
       "<p>200 rows × 4 columns</p>\n",
       "</div>"
      ],
      "text/plain": [
       "       id_prod                             date session_id client_id\n",
       "1431       T_0  test_2021-03-01 02:30:02.237420        s_0      ct_1\n",
       "2365       T_0  test_2021-03-01 02:30:02.237446        s_0      ct_1\n",
       "2895       T_0  test_2021-03-01 02:30:02.237414        s_0      ct_1\n",
       "5955       T_0  test_2021-03-01 02:30:02.237441        s_0      ct_0\n",
       "7283       T_0  test_2021-03-01 02:30:02.237434        s_0      ct_1\n",
       "...        ...                              ...        ...       ...\n",
       "332594     T_0  test_2021-03-01 02:30:02.237445        s_0      ct_0\n",
       "332705     T_0  test_2021-03-01 02:30:02.237423        s_0      ct_1\n",
       "332730     T_0  test_2021-03-01 02:30:02.237421        s_0      ct_1\n",
       "333442     T_0  test_2021-03-01 02:30:02.237431        s_0      ct_1\n",
       "335279     T_0  test_2021-03-01 02:30:02.237430        s_0      ct_0\n",
       "\n",
       "[200 rows x 4 columns]"
      ]
     },
     "metadata": {},
     "output_type": "display_data"
    },
    {
     "data": {
      "text/plain": [
       "array(['ct_1', 'ct_0'], dtype=object)"
      ]
     },
     "execution_count": 87,
     "metadata": {},
     "output_type": "execute_result"
    }
   ],
   "source": [
    "#investigating further in transaction dataframe\n",
    "\n",
    "tra_test = tra[tra['date'].str.startswith('test_')]\n",
    "display(tra_test)\n",
    "tra_test['client_id'].unique()\n",
    "\n",
    "# I will delete these values after merging"
   ]
  },
  {
   "cell_type": "markdown",
   "id": "7dddfa31",
   "metadata": {},
   "source": [
    "## Merging "
   ]
  },
  {
   "cell_type": "code",
   "execution_count": 88,
   "id": "3456a3c4",
   "metadata": {
    "scrolled": true
   },
   "outputs": [
    {
     "data": {
      "text/html": [
       "<div>\n",
       "<style scoped>\n",
       "    .dataframe tbody tr th:only-of-type {\n",
       "        vertical-align: middle;\n",
       "    }\n",
       "\n",
       "    .dataframe tbody tr th {\n",
       "        vertical-align: top;\n",
       "    }\n",
       "\n",
       "    .dataframe thead th {\n",
       "        text-align: right;\n",
       "    }\n",
       "</style>\n",
       "<table border=\"1\" class=\"dataframe\">\n",
       "  <thead>\n",
       "    <tr style=\"text-align: right;\">\n",
       "      <th></th>\n",
       "      <th>client_id</th>\n",
       "      <th>sex</th>\n",
       "      <th>birth</th>\n",
       "      <th>id_prod</th>\n",
       "      <th>date</th>\n",
       "      <th>session_id</th>\n",
       "      <th>price</th>\n",
       "      <th>categ</th>\n",
       "    </tr>\n",
       "  </thead>\n",
       "  <tbody>\n",
       "    <tr>\n",
       "      <th>0</th>\n",
       "      <td>c_4410</td>\n",
       "      <td>f</td>\n",
       "      <td>1967</td>\n",
       "      <td>0_1455</td>\n",
       "      <td>2021-03-22 14:29:25.189266</td>\n",
       "      <td>s_9942</td>\n",
       "      <td>8.99</td>\n",
       "      <td>0.0</td>\n",
       "    </tr>\n",
       "    <tr>\n",
       "      <th>1</th>\n",
       "      <td>c_4410</td>\n",
       "      <td>f</td>\n",
       "      <td>1967</td>\n",
       "      <td>0_1376</td>\n",
       "      <td>2021-09-24 22:58:27.418343</td>\n",
       "      <td>s_94984</td>\n",
       "      <td>16.24</td>\n",
       "      <td>0.0</td>\n",
       "    </tr>\n",
       "    <tr>\n",
       "      <th>2</th>\n",
       "      <td>c_4410</td>\n",
       "      <td>f</td>\n",
       "      <td>1967</td>\n",
       "      <td>1_312</td>\n",
       "      <td>2022-01-29 14:07:47.482092</td>\n",
       "      <td>s_156960</td>\n",
       "      <td>24.56</td>\n",
       "      <td>1.0</td>\n",
       "    </tr>\n",
       "    <tr>\n",
       "      <th>3</th>\n",
       "      <td>c_4410</td>\n",
       "      <td>f</td>\n",
       "      <td>1967</td>\n",
       "      <td>1_653</td>\n",
       "      <td>2021-07-29 23:34:41.866951</td>\n",
       "      <td>s_68860</td>\n",
       "      <td>25.99</td>\n",
       "      <td>1.0</td>\n",
       "    </tr>\n",
       "    <tr>\n",
       "      <th>4</th>\n",
       "      <td>c_4410</td>\n",
       "      <td>f</td>\n",
       "      <td>1967</td>\n",
       "      <td>0_1110</td>\n",
       "      <td>2021-11-04 16:28:30.169021</td>\n",
       "      <td>s_114715</td>\n",
       "      <td>4.71</td>\n",
       "      <td>0.0</td>\n",
       "    </tr>\n",
       "  </tbody>\n",
       "</table>\n",
       "</div>"
      ],
      "text/plain": [
       "  client_id sex  birth id_prod                        date session_id  price  \\\n",
       "0    c_4410   f   1967  0_1455  2021-03-22 14:29:25.189266     s_9942   8.99   \n",
       "1    c_4410   f   1967  0_1376  2021-09-24 22:58:27.418343    s_94984  16.24   \n",
       "2    c_4410   f   1967   1_312  2022-01-29 14:07:47.482092   s_156960  24.56   \n",
       "3    c_4410   f   1967   1_653  2021-07-29 23:34:41.866951    s_68860  25.99   \n",
       "4    c_4410   f   1967  0_1110  2021-11-04 16:28:30.169021   s_114715   4.71   \n",
       "\n",
       "   categ  \n",
       "0    0.0  \n",
       "1    0.0  \n",
       "2    1.0  \n",
       "3    1.0  \n",
       "4    0.0  "
      ]
     },
     "execution_count": 88,
     "metadata": {},
     "output_type": "execute_result"
    }
   ],
   "source": [
    "# Merged cus with tra on 'client_id'\n",
    "cus_tra = pd.merge(cus, tra, on='client_id', how='left')\n",
    "\n",
    "# Merged the resulting dataframe with prod on 'id_prod'\n",
    "data = pd.merge(cus_tra, pro, on='id_prod', how='left')\n",
    "\n",
    "data.head()\n"
   ]
  },
  {
   "cell_type": "markdown",
   "id": "fc49c185",
   "metadata": {},
   "source": [
    "# Task 1: Data Cleaning   "
   ]
  },
  {
   "cell_type": "code",
   "execution_count": 89,
   "id": "64e2073f",
   "metadata": {},
   "outputs": [],
   "source": [
    "#excluding the test values from the dataframes\n",
    "\n",
    "data = data[~(data['id_prod'] == 'T_0')]\n"
   ]
  },
  {
   "cell_type": "code",
   "execution_count": 90,
   "id": "a48dbd17",
   "metadata": {
    "scrolled": true
   },
   "outputs": [],
   "source": [
    "#converting date column from object to datetime Dtype\n",
    "\n",
    "data['date'] = pd.to_datetime(data['date'], format='%Y-%m-%d %H:%M:%S.%f')\n"
   ]
  },
  {
   "cell_type": "markdown",
   "id": "550f7bd9",
   "metadata": {},
   "source": [
    "## Null Values"
   ]
  },
  {
   "cell_type": "code",
   "execution_count": 91,
   "id": "9caa3260",
   "metadata": {
    "scrolled": true
   },
   "outputs": [
    {
     "name": "stdout",
     "output_type": "stream",
     "text": [
      "<class 'pandas.core.frame.DataFrame'>\n",
      "Index: 336837 entries, 0 to 337036\n",
      "Data columns (total 8 columns):\n",
      " #   Column      Non-Null Count   Dtype         \n",
      "---  ------      --------------   -----         \n",
      " 0   client_id   336837 non-null  object        \n",
      " 1   sex         336837 non-null  object        \n",
      " 2   birth       336837 non-null  int64         \n",
      " 3   id_prod     336816 non-null  object        \n",
      " 4   date        336816 non-null  datetime64[ns]\n",
      " 5   session_id  336816 non-null  object        \n",
      " 6   price       336713 non-null  float64       \n",
      " 7   categ       336713 non-null  float64       \n",
      "dtypes: datetime64[ns](1), float64(2), int64(1), object(4)\n",
      "memory usage: 23.1+ MB\n"
     ]
    },
    {
     "data": {
      "text/plain": [
       "None"
      ]
     },
     "metadata": {},
     "output_type": "display_data"
    },
    {
     "data": {
      "text/plain": [
       "client_id       0\n",
       "sex             0\n",
       "birth           0\n",
       "id_prod        21\n",
       "date           21\n",
       "session_id     21\n",
       "price         124\n",
       "categ         124\n",
       "dtype: int64"
      ]
     },
     "metadata": {},
     "output_type": "display_data"
    },
    {
     "data": {
      "text/html": [
       "<div>\n",
       "<style scoped>\n",
       "    .dataframe tbody tr th:only-of-type {\n",
       "        vertical-align: middle;\n",
       "    }\n",
       "\n",
       "    .dataframe tbody tr th {\n",
       "        vertical-align: top;\n",
       "    }\n",
       "\n",
       "    .dataframe thead th {\n",
       "        text-align: right;\n",
       "    }\n",
       "</style>\n",
       "<table border=\"1\" class=\"dataframe\">\n",
       "  <thead>\n",
       "    <tr style=\"text-align: right;\">\n",
       "      <th></th>\n",
       "      <th>client_id</th>\n",
       "      <th>sex</th>\n",
       "      <th>birth</th>\n",
       "      <th>id_prod</th>\n",
       "      <th>date</th>\n",
       "      <th>session_id</th>\n",
       "      <th>price</th>\n",
       "      <th>categ</th>\n",
       "    </tr>\n",
       "  </thead>\n",
       "  <tbody>\n",
       "    <tr>\n",
       "      <th>2604</th>\n",
       "      <td>c_4505</td>\n",
       "      <td>m</td>\n",
       "      <td>1976</td>\n",
       "      <td>0_2245</td>\n",
       "      <td>2022-01-09 09:23:31.000720</td>\n",
       "      <td>s_147220</td>\n",
       "      <td>NaN</td>\n",
       "      <td>NaN</td>\n",
       "    </tr>\n",
       "    <tr>\n",
       "      <th>2949</th>\n",
       "      <td>c_3468</td>\n",
       "      <td>f</td>\n",
       "      <td>1981</td>\n",
       "      <td>0_2245</td>\n",
       "      <td>2021-09-11 10:52:05.205583</td>\n",
       "      <td>s_88251</td>\n",
       "      <td>NaN</td>\n",
       "      <td>NaN</td>\n",
       "    </tr>\n",
       "    <tr>\n",
       "      <th>6655</th>\n",
       "      <td>c_1403</td>\n",
       "      <td>f</td>\n",
       "      <td>1978</td>\n",
       "      <td>0_2245</td>\n",
       "      <td>2022-02-15 14:26:50.187952</td>\n",
       "      <td>s_165575</td>\n",
       "      <td>NaN</td>\n",
       "      <td>NaN</td>\n",
       "    </tr>\n",
       "    <tr>\n",
       "      <th>8374</th>\n",
       "      <td>c_3065</td>\n",
       "      <td>f</td>\n",
       "      <td>1977</td>\n",
       "      <td>0_2245</td>\n",
       "      <td>2022-01-26 13:34:33.440366</td>\n",
       "      <td>s_155484</td>\n",
       "      <td>NaN</td>\n",
       "      <td>NaN</td>\n",
       "    </tr>\n",
       "    <tr>\n",
       "      <th>9372</th>\n",
       "      <td>c_7102</td>\n",
       "      <td>m</td>\n",
       "      <td>1983</td>\n",
       "      <td>0_2245</td>\n",
       "      <td>2021-04-25 19:58:42.716401</td>\n",
       "      <td>s_25704</td>\n",
       "      <td>NaN</td>\n",
       "      <td>NaN</td>\n",
       "    </tr>\n",
       "    <tr>\n",
       "      <th>...</th>\n",
       "      <td>...</td>\n",
       "      <td>...</td>\n",
       "      <td>...</td>\n",
       "      <td>...</td>\n",
       "      <td>...</td>\n",
       "      <td>...</td>\n",
       "      <td>...</td>\n",
       "      <td>...</td>\n",
       "    </tr>\n",
       "    <tr>\n",
       "      <th>328951</th>\n",
       "      <td>c_7416</td>\n",
       "      <td>m</td>\n",
       "      <td>1933</td>\n",
       "      <td>0_2245</td>\n",
       "      <td>2021-11-12 09:25:22.905886</td>\n",
       "      <td>s_118458</td>\n",
       "      <td>NaN</td>\n",
       "      <td>NaN</td>\n",
       "    </tr>\n",
       "    <tr>\n",
       "      <th>330503</th>\n",
       "      <td>c_4283</td>\n",
       "      <td>f</td>\n",
       "      <td>1976</td>\n",
       "      <td>0_2245</td>\n",
       "      <td>2021-09-01 02:46:38.931757</td>\n",
       "      <td>s_83377</td>\n",
       "      <td>NaN</td>\n",
       "      <td>NaN</td>\n",
       "    </tr>\n",
       "    <tr>\n",
       "      <th>333307</th>\n",
       "      <td>c_6236</td>\n",
       "      <td>f</td>\n",
       "      <td>1976</td>\n",
       "      <td>0_2245</td>\n",
       "      <td>2022-02-25 00:08:08.736068</td>\n",
       "      <td>s_170426</td>\n",
       "      <td>NaN</td>\n",
       "      <td>NaN</td>\n",
       "    </tr>\n",
       "    <tr>\n",
       "      <th>333985</th>\n",
       "      <td>c_3526</td>\n",
       "      <td>m</td>\n",
       "      <td>1956</td>\n",
       "      <td>NaN</td>\n",
       "      <td>NaT</td>\n",
       "      <td>NaN</td>\n",
       "      <td>NaN</td>\n",
       "      <td>NaN</td>\n",
       "    </tr>\n",
       "    <tr>\n",
       "      <th>336057</th>\n",
       "      <td>c_4453</td>\n",
       "      <td>m</td>\n",
       "      <td>1981</td>\n",
       "      <td>0_2245</td>\n",
       "      <td>2022-02-16 11:35:20.319501</td>\n",
       "      <td>s_166050</td>\n",
       "      <td>NaN</td>\n",
       "      <td>NaN</td>\n",
       "    </tr>\n",
       "  </tbody>\n",
       "</table>\n",
       "<p>124 rows × 8 columns</p>\n",
       "</div>"
      ],
      "text/plain": [
       "       client_id sex  birth id_prod                       date session_id  \\\n",
       "2604      c_4505   m   1976  0_2245 2022-01-09 09:23:31.000720   s_147220   \n",
       "2949      c_3468   f   1981  0_2245 2021-09-11 10:52:05.205583    s_88251   \n",
       "6655      c_1403   f   1978  0_2245 2022-02-15 14:26:50.187952   s_165575   \n",
       "8374      c_3065   f   1977  0_2245 2022-01-26 13:34:33.440366   s_155484   \n",
       "9372      c_7102   m   1983  0_2245 2021-04-25 19:58:42.716401    s_25704   \n",
       "...          ...  ..    ...     ...                        ...        ...   \n",
       "328951    c_7416   m   1933  0_2245 2021-11-12 09:25:22.905886   s_118458   \n",
       "330503    c_4283   f   1976  0_2245 2021-09-01 02:46:38.931757    s_83377   \n",
       "333307    c_6236   f   1976  0_2245 2022-02-25 00:08:08.736068   s_170426   \n",
       "333985    c_3526   m   1956     NaN                        NaT        NaN   \n",
       "336057    c_4453   m   1981  0_2245 2022-02-16 11:35:20.319501   s_166050   \n",
       "\n",
       "        price  categ  \n",
       "2604      NaN    NaN  \n",
       "2949      NaN    NaN  \n",
       "6655      NaN    NaN  \n",
       "8374      NaN    NaN  \n",
       "9372      NaN    NaN  \n",
       "...       ...    ...  \n",
       "328951    NaN    NaN  \n",
       "330503    NaN    NaN  \n",
       "333307    NaN    NaN  \n",
       "333985    NaN    NaN  \n",
       "336057    NaN    NaN  \n",
       "\n",
       "[124 rows x 8 columns]"
      ]
     },
     "execution_count": 91,
     "metadata": {},
     "output_type": "execute_result"
    }
   ],
   "source": [
    "display(data.info())\n",
    "display(data.isnull().sum())\n",
    "data[data.isnull().any(axis=1)]"
   ]
  },
  {
   "cell_type": "markdown",
   "id": "bc406f93",
   "metadata": {},
   "source": [
    "There are 21 values missing from the transaction dataframe, and 125 values from the product dataframe."
   ]
  },
  {
   "cell_type": "markdown",
   "id": "7afbb0aa",
   "metadata": {},
   "source": [
    "### Replacing id_product null values"
   ]
  },
  {
   "cell_type": "code",
   "execution_count": 92,
   "id": "b9197c9a",
   "metadata": {},
   "outputs": [
    {
     "data": {
      "text/plain": [
       "array(['0_2245', nan], dtype=object)"
      ]
     },
     "execution_count": 92,
     "metadata": {},
     "output_type": "execute_result"
    }
   ],
   "source": [
    "#what are the products that are missing pricing or category data?\n",
    "data[data[['price', 'categ']].isnull().any(axis=1)]['id_prod'].unique()"
   ]
  },
  {
   "cell_type": "markdown",
   "id": "1534c653",
   "metadata": {},
   "source": [
    "So we know that 0_2245 product is missing pricing and category values,and also that there are NaN products missing pricing and category values"
   ]
  },
  {
   "cell_type": "code",
   "execution_count": 93,
   "id": "3e6f62ed",
   "metadata": {
    "scrolled": true
   },
   "outputs": [],
   "source": [
    "#How can we sobstitute the NaN product_id?\n",
    "#Here I will sobstitute the missing products for the most commonly sold product, \n",
    "#and the corresponding pricing, category. "
   ]
  },
  {
   "cell_type": "code",
   "execution_count": 94,
   "id": "c48cc50c",
   "metadata": {},
   "outputs": [
    {
     "data": {
      "text/plain": [
       "array([nan])"
      ]
     },
     "execution_count": 94,
     "metadata": {},
     "output_type": "execute_result"
    }
   ],
   "source": [
    "# and are the pricing and category data always missing if the id_prod is missing?\n",
    "data[data['id_prod'].isnull()]['categ'].unique()\n",
    "#seems like yes."
   ]
  },
  {
   "cell_type": "code",
   "execution_count": 95,
   "id": "56dfcb50",
   "metadata": {
    "scrolled": false
   },
   "outputs": [
    {
     "data": {
      "text/plain": [
       "client_id                         c_6616\n",
       "sex                                    f\n",
       "birth                               1954\n",
       "id_prod                            1_369\n",
       "date          2021-11-06 02:39:18.103498\n",
       "session_id                      s_115368\n",
       "price                              23.99\n",
       "categ                                1.0\n",
       "Name: 455, dtype: object"
      ]
     },
     "execution_count": 95,
     "metadata": {},
     "output_type": "execute_result"
    }
   ],
   "source": [
    "#The values of the most frequent product\n",
    "most_frequent_values = data[data['id_prod'] == data['id_prod'].mode()[0]].iloc[0]\n",
    "most_frequent_values\n",
    "                        "
   ]
  },
  {
   "cell_type": "code",
   "execution_count": 96,
   "id": "5be9b580",
   "metadata": {},
   "outputs": [],
   "source": [
    "# Fill missing 'id_prod' values\n",
    "data['id_prod'].fillna(most_frequent_values['id_prod'], inplace=True)"
   ]
  },
  {
   "cell_type": "code",
   "execution_count": 97,
   "id": "0141054e",
   "metadata": {},
   "outputs": [],
   "source": [
    "# Fill missing 'price' and 'categ' values where id_prod == 1_369\n",
    "\n",
    "condition = data['id_prod'] == '1_369'\n",
    "\n",
    "data.loc[condition, 'price'] = data.loc[condition, 'price'].fillna(most_frequent_values['price'])\n",
    "data.loc[condition, 'categ'] = data.loc[condition, 'categ'].fillna(most_frequent_values['categ'])\n"
   ]
  },
  {
   "cell_type": "code",
   "execution_count": 98,
   "id": "687d49c9",
   "metadata": {},
   "outputs": [
    {
     "data": {
      "text/plain": [
       "client_id      0\n",
       "sex            0\n",
       "birth          0\n",
       "id_prod        0\n",
       "date          21\n",
       "session_id    21\n",
       "price          0\n",
       "categ          0\n",
       "dtype: int64"
      ]
     },
     "execution_count": 98,
     "metadata": {},
     "output_type": "execute_result"
    }
   ],
   "source": [
    "#Let's check if the missing values have been filled \n",
    "data[data['id_prod']=='1_369'].isnull().sum()"
   ]
  },
  {
   "cell_type": "code",
   "execution_count": 99,
   "id": "3637b4c7",
   "metadata": {},
   "outputs": [
    {
     "data": {
      "text/plain": [
       "client_id       0\n",
       "sex             0\n",
       "birth           0\n",
       "id_prod         0\n",
       "date           21\n",
       "session_id     21\n",
       "price         103\n",
       "categ         103\n",
       "dtype: int64"
      ]
     },
     "metadata": {},
     "output_type": "display_data"
    },
    {
     "data": {
      "text/html": [
       "<div>\n",
       "<style scoped>\n",
       "    .dataframe tbody tr th:only-of-type {\n",
       "        vertical-align: middle;\n",
       "    }\n",
       "\n",
       "    .dataframe tbody tr th {\n",
       "        vertical-align: top;\n",
       "    }\n",
       "\n",
       "    .dataframe thead th {\n",
       "        text-align: right;\n",
       "    }\n",
       "</style>\n",
       "<table border=\"1\" class=\"dataframe\">\n",
       "  <thead>\n",
       "    <tr style=\"text-align: right;\">\n",
       "      <th></th>\n",
       "      <th>client_id</th>\n",
       "      <th>sex</th>\n",
       "      <th>birth</th>\n",
       "      <th>id_prod</th>\n",
       "      <th>date</th>\n",
       "      <th>session_id</th>\n",
       "      <th>price</th>\n",
       "      <th>categ</th>\n",
       "    </tr>\n",
       "  </thead>\n",
       "  <tbody>\n",
       "    <tr>\n",
       "      <th>2604</th>\n",
       "      <td>c_4505</td>\n",
       "      <td>m</td>\n",
       "      <td>1976</td>\n",
       "      <td>0_2245</td>\n",
       "      <td>2022-01-09 09:23:31.000720</td>\n",
       "      <td>s_147220</td>\n",
       "      <td>NaN</td>\n",
       "      <td>NaN</td>\n",
       "    </tr>\n",
       "    <tr>\n",
       "      <th>2949</th>\n",
       "      <td>c_3468</td>\n",
       "      <td>f</td>\n",
       "      <td>1981</td>\n",
       "      <td>0_2245</td>\n",
       "      <td>2021-09-11 10:52:05.205583</td>\n",
       "      <td>s_88251</td>\n",
       "      <td>NaN</td>\n",
       "      <td>NaN</td>\n",
       "    </tr>\n",
       "    <tr>\n",
       "      <th>6655</th>\n",
       "      <td>c_1403</td>\n",
       "      <td>f</td>\n",
       "      <td>1978</td>\n",
       "      <td>0_2245</td>\n",
       "      <td>2022-02-15 14:26:50.187952</td>\n",
       "      <td>s_165575</td>\n",
       "      <td>NaN</td>\n",
       "      <td>NaN</td>\n",
       "    </tr>\n",
       "    <tr>\n",
       "      <th>8374</th>\n",
       "      <td>c_3065</td>\n",
       "      <td>f</td>\n",
       "      <td>1977</td>\n",
       "      <td>0_2245</td>\n",
       "      <td>2022-01-26 13:34:33.440366</td>\n",
       "      <td>s_155484</td>\n",
       "      <td>NaN</td>\n",
       "      <td>NaN</td>\n",
       "    </tr>\n",
       "    <tr>\n",
       "      <th>9372</th>\n",
       "      <td>c_7102</td>\n",
       "      <td>m</td>\n",
       "      <td>1983</td>\n",
       "      <td>0_2245</td>\n",
       "      <td>2021-04-25 19:58:42.716401</td>\n",
       "      <td>s_25704</td>\n",
       "      <td>NaN</td>\n",
       "      <td>NaN</td>\n",
       "    </tr>\n",
       "    <tr>\n",
       "      <th>...</th>\n",
       "      <td>...</td>\n",
       "      <td>...</td>\n",
       "      <td>...</td>\n",
       "      <td>...</td>\n",
       "      <td>...</td>\n",
       "      <td>...</td>\n",
       "      <td>...</td>\n",
       "      <td>...</td>\n",
       "    </tr>\n",
       "    <tr>\n",
       "      <th>328951</th>\n",
       "      <td>c_7416</td>\n",
       "      <td>m</td>\n",
       "      <td>1933</td>\n",
       "      <td>0_2245</td>\n",
       "      <td>2021-11-12 09:25:22.905886</td>\n",
       "      <td>s_118458</td>\n",
       "      <td>NaN</td>\n",
       "      <td>NaN</td>\n",
       "    </tr>\n",
       "    <tr>\n",
       "      <th>330503</th>\n",
       "      <td>c_4283</td>\n",
       "      <td>f</td>\n",
       "      <td>1976</td>\n",
       "      <td>0_2245</td>\n",
       "      <td>2021-09-01 02:46:38.931757</td>\n",
       "      <td>s_83377</td>\n",
       "      <td>NaN</td>\n",
       "      <td>NaN</td>\n",
       "    </tr>\n",
       "    <tr>\n",
       "      <th>333307</th>\n",
       "      <td>c_6236</td>\n",
       "      <td>f</td>\n",
       "      <td>1976</td>\n",
       "      <td>0_2245</td>\n",
       "      <td>2022-02-25 00:08:08.736068</td>\n",
       "      <td>s_170426</td>\n",
       "      <td>NaN</td>\n",
       "      <td>NaN</td>\n",
       "    </tr>\n",
       "    <tr>\n",
       "      <th>333985</th>\n",
       "      <td>c_3526</td>\n",
       "      <td>m</td>\n",
       "      <td>1956</td>\n",
       "      <td>1_369</td>\n",
       "      <td>NaT</td>\n",
       "      <td>NaN</td>\n",
       "      <td>23.99</td>\n",
       "      <td>1.0</td>\n",
       "    </tr>\n",
       "    <tr>\n",
       "      <th>336057</th>\n",
       "      <td>c_4453</td>\n",
       "      <td>m</td>\n",
       "      <td>1981</td>\n",
       "      <td>0_2245</td>\n",
       "      <td>2022-02-16 11:35:20.319501</td>\n",
       "      <td>s_166050</td>\n",
       "      <td>NaN</td>\n",
       "      <td>NaN</td>\n",
       "    </tr>\n",
       "  </tbody>\n",
       "</table>\n",
       "<p>124 rows × 8 columns</p>\n",
       "</div>"
      ],
      "text/plain": [
       "       client_id sex  birth id_prod                       date session_id  \\\n",
       "2604      c_4505   m   1976  0_2245 2022-01-09 09:23:31.000720   s_147220   \n",
       "2949      c_3468   f   1981  0_2245 2021-09-11 10:52:05.205583    s_88251   \n",
       "6655      c_1403   f   1978  0_2245 2022-02-15 14:26:50.187952   s_165575   \n",
       "8374      c_3065   f   1977  0_2245 2022-01-26 13:34:33.440366   s_155484   \n",
       "9372      c_7102   m   1983  0_2245 2021-04-25 19:58:42.716401    s_25704   \n",
       "...          ...  ..    ...     ...                        ...        ...   \n",
       "328951    c_7416   m   1933  0_2245 2021-11-12 09:25:22.905886   s_118458   \n",
       "330503    c_4283   f   1976  0_2245 2021-09-01 02:46:38.931757    s_83377   \n",
       "333307    c_6236   f   1976  0_2245 2022-02-25 00:08:08.736068   s_170426   \n",
       "333985    c_3526   m   1956   1_369                        NaT        NaN   \n",
       "336057    c_4453   m   1981  0_2245 2022-02-16 11:35:20.319501   s_166050   \n",
       "\n",
       "        price  categ  \n",
       "2604      NaN    NaN  \n",
       "2949      NaN    NaN  \n",
       "6655      NaN    NaN  \n",
       "8374      NaN    NaN  \n",
       "9372      NaN    NaN  \n",
       "...       ...    ...  \n",
       "328951    NaN    NaN  \n",
       "330503    NaN    NaN  \n",
       "333307    NaN    NaN  \n",
       "333985  23.99    1.0  \n",
       "336057    NaN    NaN  \n",
       "\n",
       "[124 rows x 8 columns]"
      ]
     },
     "execution_count": 99,
     "metadata": {},
     "output_type": "execute_result"
    }
   ],
   "source": [
    "#Let's check the total remaining NaN values\n",
    "display(data.isnull().sum())\n",
    "data[data.isnull().any(axis=1)]\n",
    "#This seems correct"
   ]
  },
  {
   "cell_type": "code",
   "execution_count": 100,
   "id": "aac59db1",
   "metadata": {
    "scrolled": true
   },
   "outputs": [
    {
     "data": {
      "text/plain": [
       "array(['0_2245'], dtype=object)"
      ]
     },
     "execution_count": 100,
     "metadata": {},
     "output_type": "execute_result"
    }
   ],
   "source": [
    "# Now let's see what are the products left with missing values within the price or category columns.\n",
    "data[data[['price', 'categ']].isnull().any(axis=1)]['id_prod'].unique()"
   ]
  },
  {
   "cell_type": "code",
   "execution_count": 101,
   "id": "a1108433",
   "metadata": {
    "scrolled": true
   },
   "outputs": [
    {
     "data": {
      "text/plain": [
       "array([nan])"
      ]
     },
     "metadata": {},
     "output_type": "display_data"
    }
   ],
   "source": [
    "# Let's see if there are the prices for the product that have missing pricing values\n",
    "display(data[data['id_prod']=='0_2245']['price'].unique())\n",
    "\n",
    "#seems like not"
   ]
  },
  {
   "cell_type": "markdown",
   "id": "aed8ba66",
   "metadata": {},
   "source": [
    "So now the only missing pricing and category data is that of product 0_2245"
   ]
  },
  {
   "cell_type": "markdown",
   "id": "4e2e83ef",
   "metadata": {},
   "source": [
    "### Replacing 0_2245 product pricing and category values. "
   ]
  },
  {
   "cell_type": "code",
   "execution_count": 102,
   "id": "7af08fe2",
   "metadata": {},
   "outputs": [
    {
     "name": "stdout",
     "output_type": "stream",
     "text": [
      "<class 'pandas.core.frame.DataFrame'>\n",
      "Index: 336837 entries, 0 to 337036\n",
      "Data columns (total 8 columns):\n",
      " #   Column      Non-Null Count   Dtype         \n",
      "---  ------      --------------   -----         \n",
      " 0   client_id   336837 non-null  object        \n",
      " 1   sex         336837 non-null  object        \n",
      " 2   birth       336837 non-null  int64         \n",
      " 3   id_prod     336837 non-null  object        \n",
      " 4   date        336816 non-null  datetime64[ns]\n",
      " 5   session_id  336816 non-null  object        \n",
      " 6   price       336734 non-null  float64       \n",
      " 7   categ       336734 non-null  float64       \n",
      "dtypes: datetime64[ns](1), float64(2), int64(1), object(4)\n",
      "memory usage: 23.1+ MB\n"
     ]
    },
    {
     "data": {
      "text/plain": [
       "None"
      ]
     },
     "metadata": {},
     "output_type": "display_data"
    }
   ],
   "source": [
    "#I noticed the datatype of categ changed to float after the merge\n",
    "#I will change this after I replace the NaN values\n",
    "display(data.info())"
   ]
  },
  {
   "cell_type": "code",
   "execution_count": 103,
   "id": "5c20ba38",
   "metadata": {},
   "outputs": [],
   "source": [
    "#I noticed the first value of the id_prod corresponds to the category.\n",
    "#So we can replace the values in the categ column for 0.\n",
    "data['categ'].fillna(0.0, inplace = True)\n",
    "\n",
    "#Lets find out the average price for the category 0 and use that to estimate the price of 0_2245\n",
    "\n",
    "mean_price_categ_0 = data[data['categ'] == 0.0]['price'].mean(skipna=True)\n"
   ]
  },
  {
   "cell_type": "code",
   "execution_count": 104,
   "id": "88c5c386",
   "metadata": {},
   "outputs": [],
   "source": [
    "#Let's replace the NaN values in the price column which all refer to id_prod = 0_2245\n",
    "data['price'].fillna(mean_price_categ_0, inplace = True)\n"
   ]
  },
  {
   "cell_type": "code",
   "execution_count": 105,
   "id": "3e657252",
   "metadata": {},
   "outputs": [],
   "source": [
    "# Now I can change the categ datatype back to integer\n",
    "data['categ']= data['categ'].astype(int)"
   ]
  },
  {
   "cell_type": "code",
   "execution_count": 106,
   "id": "4e4216bc",
   "metadata": {},
   "outputs": [
    {
     "name": "stdout",
     "output_type": "stream",
     "text": [
      "<class 'pandas.core.frame.DataFrame'>\n",
      "Index: 336837 entries, 0 to 337036\n",
      "Data columns (total 8 columns):\n",
      " #   Column      Non-Null Count   Dtype         \n",
      "---  ------      --------------   -----         \n",
      " 0   client_id   336837 non-null  object        \n",
      " 1   sex         336837 non-null  object        \n",
      " 2   birth       336837 non-null  int64         \n",
      " 3   id_prod     336837 non-null  object        \n",
      " 4   date        336816 non-null  datetime64[ns]\n",
      " 5   session_id  336816 non-null  object        \n",
      " 6   price       336837 non-null  float64       \n",
      " 7   categ       336837 non-null  int32         \n",
      "dtypes: datetime64[ns](1), float64(1), int32(1), int64(1), object(4)\n",
      "memory usage: 21.8+ MB\n"
     ]
    },
    {
     "data": {
      "text/plain": [
       "None"
      ]
     },
     "metadata": {},
     "output_type": "display_data"
    },
    {
     "data": {
      "text/plain": [
       "client_id      0\n",
       "sex            0\n",
       "birth          0\n",
       "id_prod        0\n",
       "date          21\n",
       "session_id    21\n",
       "price          0\n",
       "categ          0\n",
       "dtype: int64"
      ]
     },
     "execution_count": 106,
     "metadata": {},
     "output_type": "execute_result"
    }
   ],
   "source": [
    "display(data.info())\n",
    "data.isna().sum()"
   ]
  },
  {
   "cell_type": "markdown",
   "id": "a4f9b733",
   "metadata": {},
   "source": [
    "Everything seems fine, we have some missing values for the date and session_id but I will ignore those for now."
   ]
  },
  {
   "cell_type": "markdown",
   "id": "3f03aeb4",
   "metadata": {},
   "source": [
    "## Type conversion"
   ]
  },
  {
   "cell_type": "markdown",
   "id": "2e149b12",
   "metadata": {},
   "source": [
    "The category values have to be converted to strings, since they are not really numberic values."
   ]
  },
  {
   "cell_type": "code",
   "execution_count": 107,
   "id": "3be00dcb",
   "metadata": {},
   "outputs": [],
   "source": [
    "data['categ'] = data['categ'].astype(str)"
   ]
  },
  {
   "cell_type": "markdown",
   "id": "744c8bbf",
   "metadata": {},
   "source": [
    "## Outliers"
   ]
  },
  {
   "cell_type": "markdown",
   "id": "34f93859",
   "metadata": {},
   "source": [
    "I discovered there are some clients who purchase unusually high amounts, so I categorized them as outliers."
   ]
  },
  {
   "cell_type": "code",
   "execution_count": 108,
   "id": "c6582ef6",
   "metadata": {
    "scrolled": true
   },
   "outputs": [
    {
     "data": {
      "text/html": [
       "<div>\n",
       "<style scoped>\n",
       "    .dataframe tbody tr th:only-of-type {\n",
       "        vertical-align: middle;\n",
       "    }\n",
       "\n",
       "    .dataframe tbody tr th {\n",
       "        vertical-align: top;\n",
       "    }\n",
       "\n",
       "    .dataframe thead th {\n",
       "        text-align: right;\n",
       "    }\n",
       "</style>\n",
       "<table border=\"1\" class=\"dataframe\">\n",
       "  <thead>\n",
       "    <tr style=\"text-align: right;\">\n",
       "      <th></th>\n",
       "      <th>client_id</th>\n",
       "      <th>total_spent</th>\n",
       "    </tr>\n",
       "  </thead>\n",
       "  <tbody>\n",
       "    <tr>\n",
       "      <th>0</th>\n",
       "      <td>c_1609</td>\n",
       "      <td>162007.340000</td>\n",
       "    </tr>\n",
       "    <tr>\n",
       "      <th>1</th>\n",
       "      <td>c_4958</td>\n",
       "      <td>144257.210000</td>\n",
       "    </tr>\n",
       "    <tr>\n",
       "      <th>2</th>\n",
       "      <td>c_6714</td>\n",
       "      <td>73218.633656</td>\n",
       "    </tr>\n",
       "    <tr>\n",
       "      <th>3</th>\n",
       "      <td>c_3454</td>\n",
       "      <td>54464.213656</td>\n",
       "    </tr>\n",
       "    <tr>\n",
       "      <th>4</th>\n",
       "      <td>c_7959</td>\n",
       "      <td>2564.250000</td>\n",
       "    </tr>\n",
       "  </tbody>\n",
       "</table>\n",
       "</div>"
      ],
      "text/plain": [
       "  client_id    total_spent\n",
       "0    c_1609  162007.340000\n",
       "1    c_4958  144257.210000\n",
       "2    c_6714   73218.633656\n",
       "3    c_3454   54464.213656\n",
       "4    c_7959    2564.250000"
      ]
     },
     "execution_count": 108,
     "metadata": {},
     "output_type": "execute_result"
    }
   ],
   "source": [
    "data_by_client = data.groupby('client_id')['price'].sum().sort_values(ascending=False)\n",
    "data_by_client = pd.DataFrame({'client_id': data_by_client.index, 'total_spent': data_by_client.values})\n",
    "data_by_client.head()"
   ]
  },
  {
   "cell_type": "code",
   "execution_count": 109,
   "id": "6bf1521a",
   "metadata": {},
   "outputs": [
    {
     "data": {
      "image/png": "[encoded data removed]",
      "text/plain": [
       "<Figure size 640x480 with 1 Axes>"
      ]
     },
     "metadata": {},
     "output_type": "display_data"
    }
   ],
   "source": [
    "data_by_client.plot(kind='scatter', x='client_id', y='total_spent', color= 'teal')\n",
    "\n",
    "# Adding labels and title\n",
    "plt.xlabel('Client ID')\n",
    "plt.ylabel('Total Spent')\n",
    "plt.title('Scatter Plot of Total Spent by Client ID')\n",
    "\n",
    "# Show the plot\n",
    "plt.show()"
   ]
  },
  {
   "cell_type": "markdown",
   "id": "afddf676",
   "metadata": {},
   "source": [
    "There are four clients who spent over 50 thousand. Lets make a list of these clients, and a new dataset which excludes them."
   ]
  },
  {
   "cell_type": "code",
   "execution_count": 110,
   "id": "d0dcd4f9",
   "metadata": {},
   "outputs": [
    {
     "data": {
      "text/html": [
       "<div>\n",
       "<style scoped>\n",
       "    .dataframe tbody tr th:only-of-type {\n",
       "        vertical-align: middle;\n",
       "    }\n",
       "\n",
       "    .dataframe tbody tr th {\n",
       "        vertical-align: top;\n",
       "    }\n",
       "\n",
       "    .dataframe thead th {\n",
       "        text-align: right;\n",
       "    }\n",
       "</style>\n",
       "<table border=\"1\" class=\"dataframe\">\n",
       "  <thead>\n",
       "    <tr style=\"text-align: right;\">\n",
       "      <th></th>\n",
       "      <th>client_id</th>\n",
       "      <th>sex</th>\n",
       "      <th>birth</th>\n",
       "      <th>age</th>\n",
       "    </tr>\n",
       "  </thead>\n",
       "  <tbody>\n",
       "    <tr>\n",
       "      <th>0</th>\n",
       "      <td>c_1609</td>\n",
       "      <td>m</td>\n",
       "      <td>1980</td>\n",
       "      <td>43</td>\n",
       "    </tr>\n",
       "    <tr>\n",
       "      <th>1</th>\n",
       "      <td>c_3454</td>\n",
       "      <td>m</td>\n",
       "      <td>1969</td>\n",
       "      <td>54</td>\n",
       "    </tr>\n",
       "    <tr>\n",
       "      <th>2</th>\n",
       "      <td>c_4958</td>\n",
       "      <td>m</td>\n",
       "      <td>1999</td>\n",
       "      <td>24</td>\n",
       "    </tr>\n",
       "    <tr>\n",
       "      <th>3</th>\n",
       "      <td>c_6714</td>\n",
       "      <td>f</td>\n",
       "      <td>1968</td>\n",
       "      <td>55</td>\n",
       "    </tr>\n",
       "  </tbody>\n",
       "</table>\n",
       "</div>"
      ],
      "text/plain": [
       "  client_id sex  birth  age\n",
       "0    c_1609   m   1980   43\n",
       "1    c_3454   m   1969   54\n",
       "2    c_4958   m   1999   24\n",
       "3    c_6714   f   1968   55"
      ]
     },
     "execution_count": 110,
     "metadata": {},
     "output_type": "execute_result"
    }
   ],
   "source": [
    "outliers = 'c_1609', 'c_4958', 'c_6714', 'c_3454'\n",
    "data_outliers= data[data['client_id'].isin(outliers)]\n",
    "\n",
    "#Let me see their gender and age\n",
    "data_outliers = data_outliers.groupby('client_id').agg({\n",
    "    'sex': 'first',\n",
    "    'birth': 'first'\n",
    "}).reset_index()\n",
    "data_outliers['age'] = 2023-data_outliers['birth']\n",
    "data_outliers"
   ]
  },
  {
   "cell_type": "code",
   "execution_count": 111,
   "id": "6b9f6bf0",
   "metadata": {},
   "outputs": [],
   "source": [
    "#Creating Data2, dataframe without outliers.\n",
    "data2 = data[~data['client_id'].isin(outliers)].copy()"
   ]
  },
  {
   "cell_type": "markdown",
   "id": "11c4ea3a",
   "metadata": {},
   "source": [
    "I am going to assume that these are some type of re-sellers or partners, and I will exclude them from the rest of the analysis."
   ]
  },
  {
   "cell_type": "code",
   "execution_count": 112,
   "id": "04b42807",
   "metadata": {
    "scrolled": false
   },
   "outputs": [
    {
     "data": {
      "text/plain": [
       "8621"
      ]
     },
     "metadata": {},
     "output_type": "display_data"
    },
    {
     "data": {
      "text/plain": [
       "8617"
      ]
     },
     "execution_count": 112,
     "metadata": {},
     "output_type": "execute_result"
    }
   ],
   "source": [
    "#checking if the right amount of clients got deleted\n",
    "display(data['client_id'].nunique())\n",
    "data2['client_id'].nunique()"
   ]
  },
  {
   "cell_type": "markdown",
   "id": "6066a63b",
   "metadata": {},
   "source": [
    "# Saving cleaned data"
   ]
  },
  {
   "cell_type": "code",
   "execution_count": 113,
   "id": "cc1dc396",
   "metadata": {},
   "outputs": [],
   "source": [
    "data.to_csv('Data_Cleaned/data.csv')\n",
    "data2.to_csv('Data_cleaned/data2.csv', index=False)\n"
   ]
  }
 ],
 "metadata": {
  "kernelspec": {
   "display_name": "Python 3 (ipykernel)",
   "language": "python",
   "name": "python3"
  },
  "language_info": {
   "codemirror_mode": {
    "name": "ipython",
    "version": 3
   },
   "file_extension": ".py",
   "mimetype": "text/x-python",
   "name": "python",
   "nbconvert_exporter": "python",
   "pygments_lexer": "ipython3",
   "version": "3.11.5"
  },
  "toc": {
   "base_numbering": 1,
   "nav_menu": {},
   "number_sections": true,
   "sideBar": true,
   "skip_h1_title": false,
   "title_cell": "Table of Contents",
   "title_sidebar": "Contents",
   "toc_cell": false,
   "toc_position": {
    "height": "calc(100% - 180px)",
    "left": "10px",
    "top": "150px",
    "width": "342.778px"
   },
   "toc_section_display": true,
   "toc_window_display": true
  }
 },
 "nbformat": 4,
 "nbformat_minor": 5
}
